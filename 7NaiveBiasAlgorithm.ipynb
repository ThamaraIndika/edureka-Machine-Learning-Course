{
 "cells": [
  {
   "cell_type": "markdown",
   "id": "43a35dc6",
   "metadata": {},
   "source": [
    "# Steps\n",
    "\n",
    "Handling the data\n",
    "\n",
    "Summarizing data\n",
    "\n",
    "Making a prediction\n",
    "\n",
    "Making all the prediction\n",
    "\n",
    "Evaluate Accuracy\n",
    "\n",
    "tying all together"
   ]
  },
  {
   "cell_type": "code",
   "execution_count": 46,
   "id": "bca8987c",
   "metadata": {},
   "outputs": [],
   "source": [
    "import csv\n",
    "import math\n",
    "import random\n",
    "import pandas as pd\n",
    "import numpy as np"
   ]
  },
  {
   "cell_type": "code",
   "execution_count": 47,
   "id": "ad17349c",
   "metadata": {},
   "outputs": [],
   "source": [
    "def loadcsv(file):\n",
    "    dataset = pd.read_csv(file)\n",
    "    dataset = dataset.values\n",
    "    return dataset\n",
    "\n",
    "#r'C:\\Users\\TMR\\Desktop\\DataScience\\DataSets\\pima-indians-diabetes.csv'"
   ]
  },
  {
   "cell_type": "code",
   "execution_count": 48,
   "id": "e6a0efff",
   "metadata": {},
   "outputs": [],
   "source": [
    "#Split data set into two part randomly\n",
    "def splitDataset(dataset, splitRatio):\n",
    "    trainSize = int(len(dataset) * splitRatio)\n",
    "    trainSet = []\n",
    "    copy = list(dataset)\n",
    "    while len(trainSet) < trainSize:\n",
    "        index = random.randrange(len(copy))\n",
    "        trainSet.append(copy.pop(index))\n",
    "    return [trainSet, copy]\n"
   ]
  },
  {
   "cell_type": "code",
   "execution_count": 49,
   "id": "853f8035",
   "metadata": {},
   "outputs": [],
   "source": [
    "def separateByClass(dataset):\n",
    "    separated = {}\n",
    "    #print(\"\")\n",
    "    for i in range(len(dataset)):\n",
    "        vector = dataset[i]\n",
    "        if (vector[-1] not in separated):\n",
    "            separated[vector[-1]] = []\n",
    "        separated[vector[-1]].append(vector)\n",
    "    return separated"
   ]
  },
  {
   "cell_type": "code",
   "execution_count": 50,
   "id": "8c8b2596",
   "metadata": {},
   "outputs": [],
   "source": [
    "def mean(arr):\n",
    "    return sum(arr)/float(len(arr))#arr=numbers"
   ]
  },
  {
   "cell_type": "code",
   "execution_count": 51,
   "id": "3cac1a5e",
   "metadata": {},
   "outputs": [],
   "source": [
    "def stdev(arr):\n",
    "    avg=mean(arr)\n",
    "    variance=sum([pow(x-avg,2) for x in arr])/float(len(arr)-1)\n",
    "    return math.sqrt(variance)\n",
    "#numbers = [1,2,3,4,5]\n",
    "#print(numbers)\n",
    "#print(mean(numbers))\n",
    "#print(std(numbers))"
   ]
  },
  {
   "cell_type": "code",
   "execution_count": 52,
   "id": "1627e1ed",
   "metadata": {},
   "outputs": [],
   "source": [
    "#calculate mean and std classwise for each feature\n",
    "def summarize(dataset):\n",
    "    summaries = [(mean(attribute), stdev(attribute)) for attribute in zip(*dataset)]\n",
    "    del summaries[-1]\n",
    "    return summaries"
   ]
  },
  {
   "cell_type": "code",
   "execution_count": 53,
   "id": "9cbd6187",
   "metadata": {},
   "outputs": [],
   "source": [
    "def summarizeByClass(dataset):\n",
    "    separated = separateByClass(dataset)\n",
    "    summaries = {}\n",
    "    for classValue, instances in separated.items():\n",
    "        summaries[classValue] = summarize(instances)\n",
    "    return summaries\n",
    "#dataset = [[1,20,1], [2,21,0], [3,22,1], [4,22,0]]\n",
    "#summary = summarizeByClass(dataset)\n",
    "#print('Summary by class value:',summary);"
   ]
  },
  {
   "cell_type": "code",
   "execution_count": 54,
   "id": "3dfe8271",
   "metadata": {},
   "outputs": [],
   "source": [
    "\n",
    "\n",
    "#defining pdf\n",
    "#calculating class prob.s\n",
    "\n",
    "def calculateProbability(x, mean, stdev):\n",
    "    exponent = math.exp(-(math.pow(x-mean,2)/(2*math.pow(stdev,2))))\n",
    "    return (1 / (math.sqrt(2*math.pi) * stdev)) * exponent"
   ]
  },
  {
   "cell_type": "code",
   "execution_count": 55,
   "id": "8837ec79",
   "metadata": {},
   "outputs": [],
   "source": [
    "def calculateClassProbabilities(summaries, inputVector):\n",
    "    probabilities = {}\n",
    "    for classValue, classSummaries in summaries.items():\n",
    "        probabilities[classValue] = 1\n",
    "        for i in range(len(classSummaries)):\n",
    "            mean, stdev = classSummaries[i]\n",
    "            x = inputVector[i]\n",
    "            probabilities[classValue] *= calculateProbability(x, mean, stdev)\n",
    "    return probabilities\n",
    "\n",
    "\n",
    "#summaries = {0:[(33, 2)], 1:[(9, 4)]}\n",
    "#inputVector = [33, '?']\n",
    "#probabilities = calculateClassProbabilities(summaries, inputVector)\n",
    "#print('Probabilities for each class:',probabilities)\n"
   ]
  },
  {
   "cell_type": "code",
   "execution_count": 56,
   "id": "251a057d",
   "metadata": {},
   "outputs": [],
   "source": [
    "#predicting the best label\n",
    "def predict(summaries, inputVector):\n",
    "    probabilities = calculateClassProbabilities(summaries, inputVector)\n",
    "    bestLabel, bestProb = None, -1\n",
    "    for classValue, probability in probabilities.items():\n",
    "        if bestLabel is None or probability > bestProb:\n",
    "            bestProb = probability\n",
    "            bestLabel = classValue\n",
    "    return bestLabel\n",
    "\n",
    "#summaries = {'A':[(1, 0.5)], 'B':[(20, 5.0)]}\n",
    "#inputVector = [1.1, '?']\n",
    "#result = predict(summaries, inputVector)\n",
    "#print('Prediction:',result)"
   ]
  },
  {
   "cell_type": "code",
   "execution_count": 57,
   "id": "a02817c0",
   "metadata": {},
   "outputs": [],
   "source": [
    "def getPredictions(summaries, testSet):\n",
    "    predictions = []\n",
    "    for i in range(len(testSet)):\n",
    "        result = predict(summaries, testSet[i])\n",
    "        predictions.append(result)\n",
    "    return predictions\n",
    "\n",
    "#summaries = {'A':[(1, 0.5)], 'B':[(20, 5.0)]}\n",
    "#testSet = [[1.1, '?'], [19.1, '?']]\n",
    "#predictions = getPredictions(summaries, testSet)\n",
    "#print('Predictions:',predictions)"
   ]
  },
  {
   "cell_type": "code",
   "execution_count": 58,
   "id": "4578874e",
   "metadata": {},
   "outputs": [],
   "source": [
    "#This is an extra part to plot --- not need\n",
    "def sel_color(l):\n",
    "    if l[-1]==0:\n",
    "        return 'red'\n",
    "    if l[-1]==1:\n",
    "        return 'blue'\n",
    "\n",
    "def sel_color_2(l):\n",
    "    if l[0]==0:\n",
    "        return 'red'\n",
    "    if l[0]==1:\n",
    "        return 'blue'"
   ]
  },
  {
   "cell_type": "code",
   "execution_count": 59,
   "id": "a1ce3c37",
   "metadata": {},
   "outputs": [],
   "source": [
    "def getAccuracy(testSet, predictions):\n",
    "    correct = 0\n",
    "    for x in range(len(testSet)):\n",
    "        plt.scatter(testSet[x][1],testSet[x][2],marker='>', c=sel_color(testSet[x]))\n",
    "        plt.scatter(testSet[x][1],testSet[x][2],marker='<', c=sel_color_2(predictions))\n",
    "        if testSet[x][-1] == predictions[x]:\n",
    "            correct += 1\n",
    "    return (correct/float(len(testSet))) * 100.0\n",
    "\n",
    "#testSet = [[1,1,1,'a'], [2,2,2,'a'], [3,3,3,'b']]\n",
    "#predictions = ['a', 'a', 'a']\n",
    "#accuracy = getAccuracy(testSet, predictions)\n",
    "#print('Accuracy:',accuracy)\n"
   ]
  },
  {
   "cell_type": "code",
   "execution_count": 60,
   "id": "9f7123f3",
   "metadata": {},
   "outputs": [
    {
     "name": "stdout",
     "output_type": "stream",
     "text": [
      "{1.0: [(4.745098039215686, 3.7144008779299265), (139.58823529411765, 31.351291938771496), (71.88725490196079, 21.134148919589702), (22.397058823529413, 17.838194235204345), (97.24019607843137, 131.78601162139572), (35.31029411764706, 7.213612058313572), (0.5597941176470589, 0.3825384320364842), (37.161764705882355, 11.32407996343436)], 0.0: [(3.273838630806846, 3.014397670685377), (110.3398533007335, 26.07764426420806), (68.05378973105134, 17.914339791395083), (19.850855745721272, 14.75966800138143), (72.73349633251834, 102.36317926082077), (30.26968215158927, 7.608603241139446), (0.4283520782396086, 0.30324066390722704), (31.151589242053788, 11.749489086409202)]}\n",
      "Accuracy: 73.37662337662337\n"
     ]
    },
    {
     "data": {
      "image/png": "[encoded data removed]",
      "text/plain": [
       "<Figure size 432x288 with 1 Axes>"
      ]
     },
     "metadata": {
      "needs_background": "light"
     },
     "output_type": "display_data"
    }
   ],
   "source": [
    "#sum all and create main function\n",
    "def main():\n",
    "    filename=r\"C:\\Users\\TMR\\Desktop\\DataScience\\DataSets\\pima-indians-diabetes.csv\"\n",
    "    dataset=loadcsv(filename)\n",
    "    splitRatio = 0.8\n",
    "    trainingSet, testSet = splitDataset(dataset, splitRatio)\n",
    "   # print(\"trinnnnnnnnnnnnnnnnnnnnnnnnnn\",trainingSet)\n",
    "    #print(\"testtttttttt\",testSet)\n",
    "    summaries = summarizeByClass(trainingSet)\n",
    "    print(summaries)\n",
    "    predictions = getPredictions(summaries, testSet)\n",
    "    accuracy = getAccuracy(testSet, predictions)\n",
    "    print('Accuracy:',accuracy)\n",
    "    plt.show()\n",
    "\n",
    "main()"
   ]
  },
  {
   "cell_type": "code",
   "execution_count": null,
   "id": "7e068ff9",
   "metadata": {},
   "outputs": [],
   "source": []
  }
 ],
 "metadata": {
  "kernelspec": {
   "display_name": "Python 3",
   "language": "python",
   "name": "python3"
  },
  "language_info": {
   "codemirror_mode": {
    "name": "ipython",
    "version": 3
   },
   "file_extension": ".py",
   "mimetype": "text/x-python",
   "name": "python",
   "nbconvert_exporter": "python",
   "pygments_lexer": "ipython3",
   "version": "3.8.8"
  }
 },
 "nbformat": 4,
 "nbformat_minor": 5
}
